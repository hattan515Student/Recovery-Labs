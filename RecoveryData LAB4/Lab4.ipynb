{
 "cells": [
  {
   "cell_type": "markdown",
   "source": [
    "Porter Stemmer in python nltk package "
   ],
   "metadata": {}
  },
  {
   "cell_type": "code",
   "execution_count": 2,
   "source": [
    "import nltk\r\n",
    "from  nltk.stem import PorterStemmer\r\n",
    "\r\n",
    "porter = PorterStemmer()\r\n",
    "\r\n",
    "print(porter.stem(\"understanding\"))"
   ],
   "outputs": [
    {
     "output_type": "stream",
     "name": "stdout",
     "text": [
      "understand\n"
     ]
    }
   ],
   "metadata": {}
  },
  {
   "cell_type": "markdown",
   "source": [
    "Exercise 2: Assume you have a list of words that you want to get their stem, write python script that find stem of each word in the list. "
   ],
   "metadata": {}
  },
  {
   "cell_type": "code",
   "execution_count": 3,
   "source": [
    "import nltk\r\n",
    "from  nltk.stem import PorterStemmer\r\n",
    "\r\n",
    "porter = PorterStemmer()\r\n",
    "\r\n",
    "l_words = ['dogs','programming','programs','programmed','cakes','indices','matrices'] \r\n",
    "for word in l_words :\r\n",
    "    print (f'{word} \\t -> {porter.stem(word)}'.expandtabs(15))\r\n"
   ],
   "outputs": [
    {
     "output_type": "stream",
     "name": "stdout",
     "text": [
      "dogs            -> dog\n",
      "programming     -> program\n",
      "programs        -> program\n",
      "programmed      -> program\n",
      "cakes           -> cake\n",
      "indices         -> indic\n",
      "matrices        -> matric\n"
     ]
    }
   ],
   "metadata": {}
  },
  {
   "cell_type": "markdown",
   "source": [
    "Exercise 3: Now, apply Poster Stemmer on the following sentence: "
   ],
   "metadata": {}
  },
  {
   "cell_type": "code",
   "execution_count": 7,
   "source": [
    "import nltk\r\n",
    "from  nltk.stem import PorterStemmer\r\n",
    "\r\n",
    "Text = nltk.word_tokenize(\"\"\"A stemmer for English operating on the stem cat sh\r\n",
    "ould identify such strings as cats, catlike, and catty. A stem\r\n",
    "ming algorithm might also reduce the words fishing, fished, an\r\n",
    "d fisher to the stem fish. The stem need not be a word, for ex\r\n",
    "ample the Porter algorithm reduces, argue, argued, argues, arg\r\n",
    "uing, and argus to the stem argu.\"\"\")\r\n",
    "\r\n",
    "porter = PorterStemmer()\r\n",
    "proccesdText= []\r\n",
    "\r\n",
    "for item in Text : \r\n",
    "    stem = porter.stem(item)\r\n",
    "    proccesdText.append(stem)\r\n",
    "    \r\n",
    "proccesdText = \" \". join(proccesdText)\r\n",
    "print(proccesdText)"
   ],
   "outputs": [
    {
     "output_type": "stream",
     "name": "stdout",
     "text": [
      "a stemmer for english oper on the stem cat sh ould identifi such string as cat , catlik , and catti . a stem ming algorithm might also reduc the word fish , fish , an d fisher to the stem fish . the stem need not be a word , for ex ampl the porter algorithm reduc , argu , argu , argu , arg u , and argu to the stem argu .\n"
     ]
    }
   ],
   "metadata": {}
  },
  {
   "cell_type": "markdown",
   "source": [
    "Exercise 3: Repeat the task presented in exercise 2. Then, compare outputs! Do you find a difference between Porter  Stemmer outputs and Lancaster Stemmer? Why??? "
   ],
   "metadata": {}
  },
  {
   "cell_type": "code",
   "execution_count": null,
   "source": [
    "import nltk\r\n",
    "from  nltk.stem import LancasterStemmer\r\n",
    "\r\n",
    "Lancaster = LancasterStemmer()\r\n",
    "\r\n",
    "l_words = ['dogs','programming','programs','programmed','cakes','indices','matrices'] \r\n",
    "for word in l_words :\r\n",
    "    print (f'{word} \\t -> {Lancaster.stem(word)}'.expandtabs(15))"
   ],
   "outputs": [
    {
     "output_type": "stream",
     "name": "stdout",
     "text": [
      "dogs            -> dog\n",
      "programming     -> program\n",
      "programs        -> program\n",
      "programmed      -> program\n",
      "cakes           -> cak\n",
      "indices         -> ind\n",
      "matrices        -> mat\n"
     ]
    }
   ],
   "metadata": {}
  },
  {
   "cell_type": "markdown",
   "source": [
    "Stemming in other Languages "
   ],
   "metadata": {}
  },
  {
   "cell_type": "code",
   "execution_count": null,
   "source": [
    "from nltk.stem.isri import ISRIStemmer \r\n",
    "st = ISRIStemmer() \r\n",
    "w= 'حركات' \r\n",
    "print(st.stem(w)) "
   ],
   "outputs": [
    {
     "output_type": "stream",
     "name": "stdout",
     "text": [
      "حرك\n"
     ]
    }
   ],
   "metadata": {}
  }
 ],
 "metadata": {
  "kernelspec": {
   "name": "python3",
   "display_name": "Python 3.9.7 64-bit"
  },
  "language_info": {
   "codemirror_mode": {
    "name": "ipython",
    "version": 3
   },
   "file_extension": ".py",
   "mimetype": "text/x-python",
   "name": "python",
   "nbconvert_exporter": "python",
   "pygments_lexer": "ipython3",
   "version": "3.9.7"
  },
  "interpreter": {
   "hash": "fe44fef87f92f48a3a32707d0df204585f471652bc0ce87358a3ce712bc24db0"
  }
 },
 "nbformat": 4,
 "nbformat_minor": 4
}