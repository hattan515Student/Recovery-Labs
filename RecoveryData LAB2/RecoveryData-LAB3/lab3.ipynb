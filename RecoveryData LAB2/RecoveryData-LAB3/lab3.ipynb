{
 "cells": [
  {
   "cell_type": "code",
   "execution_count": 41,
   "source": [
    "import re\r\n",
    "\r\n",
    "phone = \"My PhoneNumber is 055-667-3589 , Add me\"\r\n",
    "regex = \"[0-9][0-9][0-9]\"\r\n",
    "if re.search(regex,phone):\r\n",
    "    print(\"yes\")\r\n",
    "else: print(\"No\")"
   ],
   "outputs": [
    {
     "output_type": "stream",
     "name": "stdout",
     "text": [
      "yes\n"
     ]
    }
   ],
   "metadata": {}
  },
  {
   "cell_type": "code",
   "execution_count": 42,
   "source": [
    "import re \r\n",
    "sen = \"Regular expression is a sequence of character(s) mainly used to find and replace patterns in a string or file\"\r\n",
    "start_word='Regular'\r\n",
    "end_word=\"file\"\r\n",
    "regex = '^' + start_word +\".*file$\"\r\n",
    "x = re.search(regex,sen)\r\n",
    "if x:\r\n",
    "    print(\"yes\")\r\n",
    "else: print(\"No\")"
   ],
   "outputs": [
    {
     "output_type": "stream",
     "name": "stdout",
     "text": [
      "yes\n"
     ]
    }
   ],
   "metadata": {}
  },
  {
   "cell_type": "code",
   "execution_count": 43,
   "source": [
    "import re\r\n",
    "replacement_patterns = [ \r\n",
    "(r'won\\'t', 'will not'), \r\n",
    "(r'can\\'t', 'cannot'), \r\n",
    "(r'i\\'m', 'i am'), \r\n",
    "(r'ain\\'t', 'is not'), \r\n",
    "(r'(\\w+)\\'ll', '\\g<1> will'), \r\n",
    "(r'(\\w+)n\\'t', '\\g<1> not'), \r\n",
    "(r'(\\w+)\\'ve', '\\g<1> have'), \r\n",
    "(r'(\\w+)\\'s', '\\g<1> is'), \r\n",
    "(r'(\\w+)\\'re', '\\g<1> are'), \r\n",
    "(r'(\\w+)\\'d', '\\g<1> would')]\r\n",
    "\r\n",
    "class RegexReplacer(object):\r\n",
    "    def __init__(self, patterns=replacement_patterns): \r\n",
    "        self.patterns = [(re.compile(regex), repl) for (regex, repl)in patterns] \r\n",
    "    def replace(self, text): \r\n",
    "        s = text  \r\n",
    "        for (pattern, repl) in self.patterns: \r\n",
    "            (s, count) = re.subn(pattern, repl, s) \r\n",
    "        return s\r\n",
    "\r\n",
    "text=\"We'll see how to replace words using regular expressions such doesn't, can’t and so on\"\r\n",
    "rep = RegexReplacer()\r\n",
    "print(rep.replace(text))\r\n"
   ],
   "outputs": [
    {
     "output_type": "stream",
     "name": "stdout",
     "text": [
      "We will see how to replace words using regular expressions such does not, can’t and so on\n"
     ]
    }
   ],
   "metadata": {}
  }
 ],
 "metadata": {
  "orig_nbformat": 4,
  "language_info": {
   "name": "python",
   "version": "3.8.8",
   "mimetype": "text/x-python",
   "codemirror_mode": {
    "name": "ipython",
    "version": 3
   },
   "pygments_lexer": "ipython3",
   "nbconvert_exporter": "python",
   "file_extension": ".py"
  },
  "kernelspec": {
   "name": "python3",
   "display_name": "Python 3.8.8 64-bit ('base': conda)"
  },
  "interpreter": {
   "hash": "df5e85f7a823298a0640eb48878b188e9067144993259fb88dc48cfc46a6d0d7"
  }
 },
 "nbformat": 4,
 "nbformat_minor": 2
}