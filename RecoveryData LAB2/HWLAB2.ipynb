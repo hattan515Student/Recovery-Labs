{
 "cells": [
  {
   "cell_type": "code",
   "execution_count": 56,
   "source": [
    "from nltk.corpus import PlaintextCorpusReader\r\n",
    "files = \".*\\.txt\"\r\n",
    "paths = PlaintextCorpusReader(\"path\", files)\r\n",
    "files  = nltk.Text(paths.fileids())\r\n",
    "words = nltk.Text(paths.words())\r\n",
    "print(files)\r\n",
    "print(words)"
   ],
   "outputs": [
    {
     "output_type": "stream",
     "name": "stdout",
     "text": [
      "<Text: dick.txt hattan515.txt king.txt...>\n",
      "<Text: How are you bitch I ` m The...>\n"
     ]
    }
   ],
   "metadata": {}
  }
 ],
 "metadata": {
  "orig_nbformat": 4,
  "language_info": {
   "name": "python"
  }
 },
 "nbformat": 4,
 "nbformat_minor": 2
}