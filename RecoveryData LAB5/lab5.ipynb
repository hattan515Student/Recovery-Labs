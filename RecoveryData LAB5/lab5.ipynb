{
 "cells": [
  {
   "cell_type": "code",
   "execution_count": 5,
   "metadata": {},
   "outputs": [
    {
     "name": "stdout",
     "output_type": "stream",
     "text": [
      "0.5555555555555556\n",
      "['There', 'are', 'manu', 'similarity', 'measures', 'used', 'in', 'NLTK', 'Package']\n",
      "['There', 'are', 'manu', 'similarity', 'measures', 'are', 'avaliable', 'in', 'NLTK']\n"
     ]
    }
   ],
   "source": [
    "from __future__ import print_function\n",
    "from nltk.metrics import *\n",
    "s1 = \"There are manu similarity measures used in NLTK Package\".split()\n",
    "s2 = \"There are manu similarity measures are avaliable in NLTK\".split()\n",
    "print(accuracy(s1,s2))\n",
    "print(s1)\n",
    "print(s2)"
   ]
  },
  {
   "cell_type": "code",
   "execution_count": 4,
   "metadata": {},
   "outputs": [
    {
     "name": "stdout",
     "output_type": "stream",
     "text": [
      "0.875\n"
     ]
    }
   ],
   "source": [
    "print(precision(set(s1),set(s2)))"
   ]
  },
  {
   "cell_type": "code",
   "execution_count": 3,
   "metadata": {},
   "outputs": [
    {
     "name": "stdout",
     "output_type": "stream",
     "text": [
      "0.7777777777777778\n"
     ]
    }
   ],
   "source": [
    "print(recall(set(s1),set(s2)))"
   ]
  },
  {
   "cell_type": "markdown",
   "metadata": {},
   "source": [
    "#Exercise 1: \n",
    "For the given sentences, apply confusion_report \n",
    "to get similarity between sentences. Write your code below \n",
    "and the outputs."
   ]
  },
  {
   "cell_type": "code",
   "execution_count": 6,
   "metadata": {},
   "outputs": [
    {
     "name": "stdout",
     "output_type": "stream",
     "text": [
      "              precision    recall  f1-score   support\n",
      "\n",
      "        NLTK       0.00      0.00      0.00         1\n",
      "     Package       0.00      0.00      0.00         1\n",
      "       There       1.00      1.00      1.00         1\n",
      "         are       0.50      1.00      0.67         1\n",
      "   avaliable       0.00      0.00      0.00         0\n",
      "          in       0.00      0.00      0.00         1\n",
      "        manu       1.00      1.00      1.00         1\n",
      "    measures       1.00      1.00      1.00         1\n",
      "  similarity       1.00      1.00      1.00         1\n",
      "        used       0.00      0.00      0.00         1\n",
      "\n",
      "    accuracy                           0.56         9\n",
      "   macro avg       0.45      0.50      0.47         9\n",
      "weighted avg       0.50      0.56      0.52         9\n",
      "\n"
     ]
    },
    {
     "name": "stderr",
     "output_type": "stream",
     "text": [
      "C:\\Users\\KT3\\anaconda3\\lib\\site-packages\\sklearn\\metrics\\_classification.py:1245: UndefinedMetricWarning: Precision and F-score are ill-defined and being set to 0.0 in labels with no predicted samples. Use `zero_division` parameter to control this behavior.\n",
      "  _warn_prf(average, modifier, msg_start, len(result))\n",
      "C:\\Users\\KT3\\anaconda3\\lib\\site-packages\\sklearn\\metrics\\_classification.py:1245: UndefinedMetricWarning: Recall and F-score are ill-defined and being set to 0.0 in labels with no true samples. Use `zero_division` parameter to control this behavior.\n",
      "  _warn_prf(average, modifier, msg_start, len(result))\n",
      "C:\\Users\\KT3\\anaconda3\\lib\\site-packages\\sklearn\\metrics\\_classification.py:1245: UndefinedMetricWarning: Precision and F-score are ill-defined and being set to 0.0 in labels with no predicted samples. Use `zero_division` parameter to control this behavior.\n",
      "  _warn_prf(average, modifier, msg_start, len(result))\n",
      "C:\\Users\\KT3\\anaconda3\\lib\\site-packages\\sklearn\\metrics\\_classification.py:1245: UndefinedMetricWarning: Recall and F-score are ill-defined and being set to 0.0 in labels with no true samples. Use `zero_division` parameter to control this behavior.\n",
      "  _warn_prf(average, modifier, msg_start, len(result))\n",
      "C:\\Users\\KT3\\anaconda3\\lib\\site-packages\\sklearn\\metrics\\_classification.py:1245: UndefinedMetricWarning: Precision and F-score are ill-defined and being set to 0.0 in labels with no predicted samples. Use `zero_division` parameter to control this behavior.\n",
      "  _warn_prf(average, modifier, msg_start, len(result))\n",
      "C:\\Users\\KT3\\anaconda3\\lib\\site-packages\\sklearn\\metrics\\_classification.py:1245: UndefinedMetricWarning: Recall and F-score are ill-defined and being set to 0.0 in labels with no true samples. Use `zero_division` parameter to control this behavior.\n",
      "  _warn_prf(average, modifier, msg_start, len(result))\n"
     ]
    }
   ],
   "source": [
    "from sklearn.metrics import confusion_matrix,classification_report\n",
    "print(classification_report(s1,s2))"
   ]
  },
  {
   "cell_type": "code",
   "execution_count": 7,
   "metadata": {},
   "outputs": [
    {
     "name": "stdout",
     "output_type": "stream",
     "text": [
      "{'Package', 'in', 'measures', 'NLTK', 'avaliable', 'are', 'manu', 'There', 'used', 'similarity'}\n"
     ]
    },
    {
     "data": {
      "text/plain": [
       "<AxesSubplot:>"
      ]
     },
     "execution_count": 7,
     "metadata": {},
     "output_type": "execute_result"
    },
    {
     "data": {
      "image/png": "[encoded data removed]",
      "text/plain": [
       "<Figure size 360x432 with 2 Axes>"
      ]
     },
     "metadata": {
      "needs_background": "light"
     },
     "output_type": "display_data"
    }
   ],
   "source": [
    "import seaborn as sn\n",
    "import pandas as pd\n",
    "import matplotlib.pyplot as plt\n",
    "array = confusion_matrix(s1,s2)\n",
    "\n",
    "setA=set(s1)\n",
    "setB=set(s2)\n",
    "dic = setA.union(setB)\n",
    "print(dic)\n",
    "df = pd.DataFrame(array,index = dic , columns=dic)\n",
    "plt.figure(figsize=(5,6))\n",
    "sn.heatmap(df,annot=True,annot_kws={\"size\":16})\n"
   ]
  },
  {
   "cell_type": "code",
   "execution_count": 13,
   "metadata": {},
   "outputs": [
    {
     "data": {
      "text/plain": [
       "0"
      ]
     },
     "execution_count": 13,
     "metadata": {},
     "output_type": "execute_result"
    }
   ],
   "source": [
    "from __future__ import print_function\n",
    "def _edit_dist_init(len1,len2):\n",
    "    lev = []\n",
    "    for i in range(len1):\n",
    "        lev.append([0]*len2)\n",
    "    for i in range(len1):\n",
    "        lev[i][0]=i\n",
    "    for j in range(len2):\n",
    "        lev[0][j]=j\n",
    "    return lev\n",
    "\n",
    "def _edit_dist_step(lev,i,j,s1,s2,transpositions=False):\n",
    "    c1=s1[i-1]\n",
    "    c2 =s2[j-1]\n",
    "    a =lev[i-1][j] +1\n",
    "    b =lev[i][j -1]+1\n",
    "    c =lev[i-1][j-1]+(c1!=c2)\n",
    "    d =c+1 \n",
    "    if transpositions and i>1 and j>1:\n",
    "       if s1[i -2]==c2 and s2[j -2]==c1:\n",
    "          d =lev[i-2][j-2]+1\n",
    "       lev[i][j] =min(a,b,c,d)\n",
    "\n",
    "def edit_distance(s1, s2, transpositions=False):\n",
    "  len1 = len(s1)\n",
    "  len2 = len(s2)\n",
    "  lev = _edit_dist_init(len1 + 1, len2 + 1)\n",
    "  for i in range(len1):\n",
    "    for j in range(len2):\n",
    "      _edit_dist_step(lev, i + 1, j + 1, s1, s2,transpositions=transpositions)\n",
    "  return lev[len1][len2]\n",
    "\n",
    "edit_distance(\"relate\",\"relation\")"
   ]
  }
 ],
 "metadata": {
  "interpreter": {
   "hash": "df5e85f7a823298a0640eb48878b188e9067144993259fb88dc48cfc46a6d0d7"
  },
  "kernelspec": {
   "display_name": "Python 3.8.8 64-bit ('base': conda)",
   "name": "python3"
  },
  "language_info": {
   "codemirror_mode": {
    "name": "ipython",
    "version": 3
   },
   "file_extension": ".py",
   "mimetype": "text/x-python",
   "name": "python",
   "nbconvert_exporter": "python",
   "pygments_lexer": "ipython3",
   "version": "3.8.8"
  },
  "orig_nbformat": 4
 },
 "nbformat": 4,
 "nbformat_minor": 2
}
