{
 "cells": [
  {
   "cell_type": "code",
   "execution_count": 24,
   "metadata": {},
   "outputs": [
    {
     "name": "stderr",
     "output_type": "stream",
     "text": [
      "[nltk_data] Downloading package stopwords to\n",
      "[nltk_data]     C:\\Users\\KT3\\AppData\\Roaming\\nltk_data...\n",
      "[nltk_data]   Package stopwords is already up-to-date!\n",
      "[nltk_data] Downloading package punkt to\n",
      "[nltk_data]     C:\\Users\\KT3\\AppData\\Roaming\\nltk_data...\n",
      "[nltk_data]   Package punkt is already up-to-date!\n"
     ]
    },
    {
     "data": {
      "text/plain": [
       "True"
      ]
     },
     "execution_count": 24,
     "metadata": {},
     "output_type": "execute_result"
    }
   ],
   "source": [
    "# import the necessary libraries  \n",
    "import pandas as pd \n",
    "import numpy as np \n",
    "import nltk \n",
    "nltk.download('stopwords') \n",
    "nltk.download('punkt') "
   ]
  },
  {
   "cell_type": "code",
   "execution_count": 25,
   "metadata": {},
   "outputs": [],
   "source": [
    "from nltk.corpus import stopwords \n",
    "from nltk.tokenize import word_tokenize \n",
    "from nltk.stem import PorterStemmer \n",
    "import os \n",
    "import string \n",
    "import copy \n",
    "import pickle"
   ]
  },
  {
   "cell_type": "code",
   "execution_count": 26,
   "metadata": {},
   "outputs": [
    {
     "name": "stdout",
     "output_type": "stream",
     "text": [
      "C:\\Users\\KT3\\Desktop\\20_newsgroups\\20_newsgroups/comp.graphics2/\n"
     ]
    }
   ],
   "source": [
    "title = \"comp.graphics2\" \n",
    "os.chdir(\"C:/Users/KT3/Desktop/20_newsgroups/20_newsgroups\") \n",
    "paths = [] \n",
    "for  (dirpath,  dirnames,  filenames)  in os.walk(str(os.getcwd())+'/'+title+'/'): \n",
    "    for i in filenames: \n",
    "        paths.append(str(dirpath)+str(\"\\\\\")+i)\n",
    "\n",
    "print(dirpath)"
   ]
  },
  {
   "cell_type": "code",
   "execution_count": 27,
   "metadata": {},
   "outputs": [
    {
     "data": {
      "text/plain": [
       "'C:\\\\Users\\\\KT3\\\\Desktop\\\\20_newsgroups\\\\20_newsgroups/comp.graphics2/\\\\39063'"
      ]
     },
     "execution_count": 27,
     "metadata": {},
     "output_type": "execute_result"
    }
   ],
   "source": [
    "paths[0]"
   ]
  },
  {
   "cell_type": "code",
   "execution_count": 28,
   "metadata": {},
   "outputs": [
    {
     "data": {
      "text/plain": [
       "100"
      ]
     },
     "execution_count": 28,
     "metadata": {},
     "output_type": "execute_result"
    }
   ],
   "source": [
    "len(paths)"
   ]
  },
  {
   "cell_type": "code",
   "execution_count": 29,
   "metadata": {},
   "outputs": [],
   "source": [
    "# Funcations Area\n",
    "def remove_stop_words(data): \n",
    " stop_words = stopwords.words('english') \n",
    " words = word_tokenize(str(data)) \n",
    " new_text = \"\" \n",
    " for w in words: \n",
    "    if w not in stop_words: \n",
    "        new_text = new_text + \" \" + w \n",
    " return np.char.strip(new_text) \n",
    "def remove_punctuation(data): \n",
    " symbols = \"!\\\"#$%&()*+-./:;<=>?@[\\]^_`{|}~\\n\" \n",
    " for i in range(len(symbols)): \n",
    "    data = np.char.replace(data, symbols[i], ' ') \n",
    "    data = np.char.replace(data, \" \", \" \") \n",
    " data = np.char.replace(data, ',', '') \n",
    " return data \n",
    "def convert_lower_case(data): \n",
    " return np.char.lower(data) \n",
    "def stemming(data): \n",
    " stemmer= PorterStemmer() \n",
    " tokens = word_tokenize(str(data)) \n",
    " new_text = \"\" \n",
    " for w in tokens: \n",
    "   new_text = new_text + \" \" + stemmer.stem(w) \n",
    " return np.char.strip(new_text)\n",
    "def convert_numbers(data): \n",
    " data = np.char.replace(data, \"0\", \" zero \") \n",
    " data = np.char.replace(data, \"1\", \" one \") \n",
    " data = np.char.replace(data, \"2\", \" two \") \n",
    " data = np.char.replace(data, \"3\", \" three \") \n",
    " data = np.char.replace(data, \"4\", \" four \") \n",
    " data = np.char.replace(data, \"5\", \" five \") \n",
    " data = np.char.replace(data, \"6\", \" six \") \n",
    " data = np.char.replace(data, \"7\", \" seven \") \n",
    " data = np.char.replace(data, \"8\", \" eight \") \n",
    " data = np.char.replace(data, \"9\", \" nine \") \n",
    " return data \n",
    "def remove_header(data): \n",
    " try: \n",
    "   ind = data.index('\\n\\n') \n",
    "   data = data[ind:] \n",
    " except: \n",
    "   print(\"No Header\") \n",
    " return data \n",
    "def remove_apostrophe(data): \n",
    " return np.char.replace(data, \"'\", \"\")\n",
    "def remove_single_characters(data): \n",
    " words = word_tokenize(str(data)) \n",
    " new_text = \"\" \n",
    " for w in words: \n",
    "   if len(w) > 1: \n",
    "      new_text = new_text + \" \" + w \n",
    " return np.char.strip(new_text) \n"
   ]
  },
  {
   "cell_type": "code",
   "execution_count": 32,
   "metadata": {},
   "outputs": [],
   "source": [
    "def preprocess(data,query): \n",
    "    data = remove_header(data)\n",
    "    data = convert_lower_case(data)\n",
    "    data = remove_punctuation(data)\n",
    "    data = remove_stop_words(data)\n",
    "    data = remove_apostrophe(data)\n",
    "    data = remove_single_characters(data)\n",
    "    data = stemming(data)\n",
    "    return data "
   ]
  },
  {
   "cell_type": "code",
   "execution_count": 35,
   "metadata": {},
   "outputs": [
    {
     "name": "stdout",
     "output_type": "stream",
     "text": [
      "0\n"
     ]
    },
    {
     "name": "stderr",
     "output_type": "stream",
     "text": [
      "C:\\Users\\KT3\\AppData\\Local\\Packages\\PythonSoftwareFoundation.Python.3.9_qbz5n2kfra8p0\\LocalCache\\local-packages\\Python39\\site-packages\\IPython\\core\\interactiveshell.py:3364: PerformanceWarning: DataFrame is highly fragmented.  This is usually the result of calling `frame.insert` many times, which has poor performance.  Consider joining all columns at once using pd.concat(axis=1) instead.  To get a de-fragmented frame, use `newframe = frame.copy()`\n",
      "  if (await self.run_code(code, result,  async_=asy)):\n"
     ]
    }
   ],
   "source": [
    "postings = pd.DataFrame() \n",
    "frequency = pd.DataFrame()\n",
    "doc=0\n",
    "i=0\n",
    "\n",
    "for path in paths: \n",
    "    file = open(path, 'r', encoding='cp1250') \n",
    "    text = file.read().strip() \n",
    "    file.close() \n",
    "    preprocessed_text = preprocess(text, False) \n",
    "    if doc%100 == 0: \n",
    "        print(doc) \n",
    "    tokens = word_tokenize(str(preprocessed_text))\n",
    "    pos=0\n",
    "    for token in tokens:\n",
    "        if token in postings:\n",
    "            p = postings[token][0]\n",
    "            k= [a[0]for a in p]\n",
    "            if doc in k:\n",
    "                for a in p:\n",
    "                    if a[0]==doc:\n",
    "                        a[1].add(pos)\n",
    "            else:\n",
    "                p.append([doc,{pos}])\n",
    "                frequency[token][0]+=1\n",
    "        else:\n",
    "            postings.insert(value=[[[doc,{pos}]]], loc=0, column=token)\n",
    "            frequency.insert(value=[1],loc=0,column=token)\n",
    "        pos+=1\n",
    "    doc+=1"
   ]
  },
  {
   "cell_type": "code",
   "execution_count": 36,
   "metadata": {},
   "outputs": [
    {
     "data": {
      "text/html": [
       "<div>\n",
       "<style scoped>\n",
       "    .dataframe tbody tr th:only-of-type {\n",
       "        vertical-align: middle;\n",
       "    }\n",
       "\n",
       "    .dataframe tbody tr th {\n",
       "        vertical-align: top;\n",
       "    }\n",
       "\n",
       "    .dataframe thead th {\n",
       "        text-align: right;\n",
       "    }\n",
       "</style>\n",
       "<table border=\"1\" class=\"dataframe\">\n",
       "  <thead>\n",
       "    <tr style=\"text-align: right;\">\n",
       "      <th></th>\n",
       "      <th>hasth</th>\n",
       "      <th>sophist</th>\n",
       "      <th>buywher</th>\n",
       "      <th>thailand</th>\n",
       "      <th>decor</th>\n",
       "      <th>interior</th>\n",
       "      <th>ginsberg</th>\n",
       "      <th>allen</th>\n",
       "      <th>mad</th>\n",
       "      <th>hide</th>\n",
       "      <th>...</th>\n",
       "      <th>obvious</th>\n",
       "      <th>beginn</th>\n",
       "      <th>complet</th>\n",
       "      <th>system</th>\n",
       "      <th>unix</th>\n",
       "      <th>download</th>\n",
       "      <th>peopl</th>\n",
       "      <th>graphic</th>\n",
       "      <th>file</th>\n",
       "      <th>find</th>\n",
       "    </tr>\n",
       "  </thead>\n",
       "  <tbody>\n",
       "    <tr>\n",
       "      <th>0</th>\n",
       "      <td>[[99, {23}]]</td>\n",
       "      <td>[[99, {20}]]</td>\n",
       "      <td>[[99, {15}]]</td>\n",
       "      <td>[[99, {7}]]</td>\n",
       "      <td>[[99, {5}]]</td>\n",
       "      <td>[[99, {4}]]</td>\n",
       "      <td>[[98, {151}]]</td>\n",
       "      <td>[[98, {150}]]</td>\n",
       "      <td>[[98, {149}]]</td>\n",
       "      <td>[[98, {148}]]</td>\n",
       "      <td>...</td>\n",
       "      <td>[[0, {10}], [47, {12}]]</td>\n",
       "      <td>[[0, {9}]]</td>\n",
       "      <td>[[0, {8}], [8, {101}], [15, {2247, 1247}], [19...</td>\n",
       "      <td>[[0, {6}], [8, {104, 128, 139, 125}], [15, {25...</td>\n",
       "      <td>[[0, {33, 5}], [8, {184}], [15, {897, 2107}], ...</td>\n",
       "      <td>[[0, {4, 44, 7}], [15, {5007, 3102, 3039}], [4...</td>\n",
       "      <td>[[0, {3}], [3, {77}], [15, {545, 4292, 5100, 2...</td>\n",
       "      <td>[[0, {2}], [2, {28, 68}], [4, {43}], [12, {7}]...</td>\n",
       "      <td>[[0, {1, 42}], [4, {97, 85, 103}], [11, {32, 2...</td>\n",
       "      <td>[[0, {0, 41}], [15, {129, 1921, 2179, 3617, 27...</td>\n",
       "    </tr>\n",
       "  </tbody>\n",
       "</table>\n",
       "<p>1 rows × 3496 columns</p>\n",
       "</div>"
      ],
      "text/plain": [
       "          hasth       sophist       buywher     thailand        decor  \\\n",
       "0  [[99, {23}]]  [[99, {20}]]  [[99, {15}]]  [[99, {7}]]  [[99, {5}]]   \n",
       "\n",
       "      interior       ginsberg          allen            mad           hide  \\\n",
       "0  [[99, {4}]]  [[98, {151}]]  [[98, {150}]]  [[98, {149}]]  [[98, {148}]]   \n",
       "\n",
       "   ...                  obvious      beginn  \\\n",
       "0  ...  [[0, {10}], [47, {12}]]  [[0, {9}]]   \n",
       "\n",
       "                                             complet  \\\n",
       "0  [[0, {8}], [8, {101}], [15, {2247, 1247}], [19...   \n",
       "\n",
       "                                              system  \\\n",
       "0  [[0, {6}], [8, {104, 128, 139, 125}], [15, {25...   \n",
       "\n",
       "                                                unix  \\\n",
       "0  [[0, {33, 5}], [8, {184}], [15, {897, 2107}], ...   \n",
       "\n",
       "                                            download  \\\n",
       "0  [[0, {4, 44, 7}], [15, {5007, 3102, 3039}], [4...   \n",
       "\n",
       "                                               peopl  \\\n",
       "0  [[0, {3}], [3, {77}], [15, {545, 4292, 5100, 2...   \n",
       "\n",
       "                                             graphic  \\\n",
       "0  [[0, {2}], [2, {28, 68}], [4, {43}], [12, {7}]...   \n",
       "\n",
       "                                                file  \\\n",
       "0  [[0, {1, 42}], [4, {97, 85, 103}], [11, {32, 2...   \n",
       "\n",
       "                                                find  \n",
       "0  [[0, {0, 41}], [15, {129, 1921, 2179, 3617, 27...  \n",
       "\n",
       "[1 rows x 3496 columns]"
      ]
     },
     "execution_count": 36,
     "metadata": {},
     "output_type": "execute_result"
    }
   ],
   "source": [
    "postings"
   ]
  },
  {
   "cell_type": "code",
   "execution_count": 37,
   "metadata": {},
   "outputs": [
    {
     "data": {
      "text/plain": [
       "0    [[3, {18}], [11, {82}], [15, {2978, 3536, 2961...\n",
       "Name: call, dtype: object"
      ]
     },
     "execution_count": 37,
     "metadata": {},
     "output_type": "execute_result"
    }
   ],
   "source": [
    "postings[\"call\"]"
   ]
  },
  {
   "cell_type": "code",
   "execution_count": 84,
   "metadata": {},
   "outputs": [],
   "source": [
    "def get_word_postings(word):\n",
    "    preprocessed_word = str(preprocess(word,True))\n",
    "    print(preprocessed_word)\n",
    "    print(\"Frequency: \",frequency[preprocessed_word][0])\n",
    "    print(\"Postings List: \",postings[preprocessed_word][0])\n",
    "\n",
    "def get_positions(posting_values,doc):\n",
    "    for posting_values in posting_values:\n",
    "        if posting_values[0] == doc:\n",
    "            return posting_values[1]\n",
    "    return {}\n",
    "\n",
    "def gen_init_set_matchings(word):\n",
    "    init = []\n",
    "    word_postings = postings[word][0]\n",
    "    for word_posting in word_postings:\n",
    "        for positions in word_postings[1]:\n",
    "            init.append((word_posting[0],positions))\n",
    "    return init\n",
    "\n",
    "def match_positional_index(init,b):\n",
    "    matched_docs = []\n",
    "    for p in init:\n",
    "        doc = p[0]\n",
    "        pos = p[1]\n",
    "        count = 0\n",
    "        for k in b:\n",
    "            pos = pos + 1\n",
    "            k_pos = postings[k][0]\n",
    "            docs_list = [z[0]for z in k_pos]\n",
    "            if doc in docs_list:\n",
    "                doc_positions = get_positions(k_pos,doc)\n",
    "                if pos in doc_positions:\n",
    "                    count+=1\n",
    "                else:\n",
    "                    count+=1\n",
    "                    break\n",
    "            if count == len(b):\n",
    "                matched_docs.append(p[0])\n",
    "    return set(matched_docs)\n",
    "\n",
    "def run_query(query):\n",
    "    processed_query = preprocess(query,True)\n",
    "    print(processed_query)\n",
    "    query_tokens = word_tokenize(str(processed_query))\n",
    "    print(query_tokens)\n",
    "\n",
    "    if len(query_tokens)==1:\n",
    "        print(\"Total Document Mathces\",[a[0]for a in postings[query][0]])\n",
    "        return [a[0]for a in postings[query][0]]\n",
    "    \n",
    "    init_word = query_tokens[0]\n",
    "    init_matches = gen_init_set_matchings(init_word)\n",
    "\n",
    "    query_tokens.pop(0)\n",
    "    total_matched_docs = match_positional_index(init_matches, query_tokens)\n",
    "    print(\"Total Document Matches:\",total_matched_docs)\n",
    "    return total_matched_docs"
   ]
  },
  {
   "cell_type": "code",
   "execution_count": 54,
   "metadata": {},
   "outputs": [
    {
     "name": "stdout",
     "output_type": "stream",
     "text": [
      "No Header\n",
      "welcom\n",
      "Frequency:  5\n",
      "Postings List:  [[15, {17, 3859, 3820}], [25, {245}], [54, {18, 3877, 3838}], [60, {107}], [89, {320}]]\n"
     ]
    }
   ],
   "source": [
    "get_word_postings(\"welcome\")\n"
   ]
  },
  {
   "cell_type": "code",
   "execution_count": 87,
   "metadata": {},
   "outputs": [
    {
     "name": "stdout",
     "output_type": "stream",
     "text": [
      "No Header\n",
      "\n",
      "[]\n"
     ]
    },
    {
     "ename": "IndexError",
     "evalue": "list index out of range",
     "output_type": "error",
     "traceback": [
      "\u001b[1;31m---------------------------------------------------------------------------\u001b[0m",
      "\u001b[1;31mIndexError\u001b[0m                                Traceback (most recent call last)",
      "\u001b[1;32m~\\AppData\\Local\\Temp/ipykernel_17864/2815500433.py\u001b[0m in \u001b[0;36m<module>\u001b[1;34m\u001b[0m\n\u001b[0;32m      1\u001b[0m \u001b[0mquery\u001b[0m \u001b[1;33m=\u001b[0m \u001b[1;34m\"are a\"\u001b[0m\u001b[1;33m\u001b[0m\u001b[1;33m\u001b[0m\u001b[0m\n\u001b[0;32m      2\u001b[0m \u001b[1;33m\u001b[0m\u001b[0m\n\u001b[1;32m----> 3\u001b[1;33m \u001b[0mlist\u001b[0m \u001b[1;33m=\u001b[0m \u001b[0mrun_query\u001b[0m\u001b[1;33m(\u001b[0m\u001b[0mquery\u001b[0m\u001b[1;33m)\u001b[0m\u001b[1;33m\u001b[0m\u001b[1;33m\u001b[0m\u001b[0m\n\u001b[0m",
      "\u001b[1;32m~\\AppData\\Local\\Temp/ipykernel_17864/1631454301.py\u001b[0m in \u001b[0;36mrun_query\u001b[1;34m(query)\u001b[0m\n\u001b[0;32m     50\u001b[0m         \u001b[1;32mreturn\u001b[0m \u001b[1;33m[\u001b[0m\u001b[0ma\u001b[0m\u001b[1;33m[\u001b[0m\u001b[1;36m0\u001b[0m\u001b[1;33m]\u001b[0m\u001b[1;32mfor\u001b[0m \u001b[0ma\u001b[0m \u001b[1;32min\u001b[0m \u001b[0mpostings\u001b[0m\u001b[1;33m[\u001b[0m\u001b[0mquery\u001b[0m\u001b[1;33m]\u001b[0m\u001b[1;33m[\u001b[0m\u001b[1;36m0\u001b[0m\u001b[1;33m]\u001b[0m\u001b[1;33m]\u001b[0m\u001b[1;33m\u001b[0m\u001b[1;33m\u001b[0m\u001b[0m\n\u001b[0;32m     51\u001b[0m \u001b[1;33m\u001b[0m\u001b[0m\n\u001b[1;32m---> 52\u001b[1;33m     \u001b[0minit_word\u001b[0m \u001b[1;33m=\u001b[0m \u001b[0mquery_tokens\u001b[0m\u001b[1;33m[\u001b[0m\u001b[1;36m0\u001b[0m\u001b[1;33m]\u001b[0m\u001b[1;33m\u001b[0m\u001b[1;33m\u001b[0m\u001b[0m\n\u001b[0m\u001b[0;32m     53\u001b[0m     \u001b[0minit_matches\u001b[0m \u001b[1;33m=\u001b[0m \u001b[0mgen_init_set_matchings\u001b[0m\u001b[1;33m(\u001b[0m\u001b[0minit_word\u001b[0m\u001b[1;33m)\u001b[0m\u001b[1;33m\u001b[0m\u001b[1;33m\u001b[0m\u001b[0m\n\u001b[0;32m     54\u001b[0m \u001b[1;33m\u001b[0m\u001b[0m\n",
      "\u001b[1;31mIndexError\u001b[0m: list index out of range"
     ]
    }
   ],
   "source": [
    "query = \"are a\"\n",
    "\n",
    "list = run_query(query)"
   ]
  }
 ],
 "metadata": {
  "interpreter": {
   "hash": "6cd374a1488fce0bddf9e493bc25f253a3d01f00058c5828949f49e7175eb6ba"
  },
  "kernelspec": {
   "display_name": "Python 3.9.8 64-bit (windows store)",
   "language": "python",
   "name": "python3"
  },
  "language_info": {
   "codemirror_mode": {
    "name": "ipython",
    "version": 3
   },
   "file_extension": ".py",
   "mimetype": "text/x-python",
   "name": "python",
   "nbconvert_exporter": "python",
   "pygments_lexer": "ipython3",
   "version": "3.9.8"
  },
  "orig_nbformat": 4
 },
 "nbformat": 4,
 "nbformat_minor": 2
}
