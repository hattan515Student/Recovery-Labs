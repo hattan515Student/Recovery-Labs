{
 "cells": [
  {
   "cell_type": "code",
   "execution_count": 2,
   "metadata": {},
   "outputs": [
    {
     "name": "stderr",
     "output_type": "stream",
     "text": [
      "[nltk_data] Downloading package stopwords to\n",
      "[nltk_data]     C:\\Users\\KT3\\AppData\\Roaming\\nltk_data...\n",
      "[nltk_data]   Unzipping corpora\\stopwords.zip.\n",
      "[nltk_data] Downloading package punkt to\n",
      "[nltk_data]     C:\\Users\\KT3\\AppData\\Roaming\\nltk_data...\n",
      "[nltk_data]   Package punkt is already up-to-date!\n"
     ]
    },
    {
     "data": {
      "text/plain": [
       "True"
      ]
     },
     "execution_count": 2,
     "metadata": {},
     "output_type": "execute_result"
    }
   ],
   "source": [
    "# import the neccessary lib\n",
    "import pandas as pd\n",
    "import numpy as np\n",
    "import nltk\n",
    "\n",
    "nltk.download('stopwords')\n",
    "nltk.download('punkt')"
   ]
  },
  {
   "cell_type": "code",
   "execution_count": 27,
   "metadata": {},
   "outputs": [
    {
     "name": "stdout",
     "output_type": "stream",
     "text": [
      "Real Path: C:\\Users\\KT3\\Desktop\\20_newsgroups\\20_newsgroups/alt.atheism/\n",
      "My first file: C:\\Users\\KT3\\Desktop\\20_newsgroups\\20_newsgroups/alt.atheism/\\49960\n"
     ]
    }
   ],
   "source": [
    "from nltk.corpus import stopwords \n",
    "from nltk.tokenize import word_tokenize \n",
    "from nltk.stem import PorterStemmer \n",
    "import os \n",
    "import string \n",
    "import copy \n",
    "import pickle \n",
    "\n",
    "title = \"alt.atheism\"\n",
    "os.chdir(\"C:/Users/KT3/Desktop/20_newsgroups/20_newsgroups\")\n",
    "paths = [] \n",
    "for (dirpath, dirnames, filenames) in os.walk(str(os.getcwd())+'/'+title+'/'): \n",
    " for i in filenames:  \n",
    "    paths.append(str(dirpath)+str(\"\\\\\")+i)\n",
    "\n",
    "print('Real Path: '+dirpath)\n",
    "print('My first file: '+paths[0])\n"
   ]
  },
  {
   "cell_type": "code",
   "execution_count": 33,
   "metadata": {},
   "outputs": [],
   "source": [
    "# Funcations Area\n",
    "def remove_stop_words(data): \n",
    " stop_words = stopwords.words('english') \n",
    " words = word_tokenize(str(data)) \n",
    " new_text = \"\" \n",
    " for w in words: \n",
    "    if w not in stop_words: \n",
    "        new_text = new_text + \" \" + w \n",
    " return np.char.strip(new_text) \n",
    "def remove_punctuation(data): \n",
    " symbols = \"!\\\"#$%&()*+-./:;<=>?@[\\]^_`{|}~\\n\" \n",
    " for i in range(len(symbols)): \n",
    "    data = np.char.replace(data, symbols[i], ' ') \n",
    "    data = np.char.replace(data, \" \", \" \") \n",
    " data = np.char.replace(data, ',', '') \n",
    " return data \n",
    "def convert_lower_case(data): \n",
    " return np.char.lower(data) \n",
    "def stemming(data): \n",
    " stemmer= PorterStemmer() \n",
    " tokens = word_tokenize(str(data)) \n",
    " new_text = \"\" \n",
    " for w in tokens: \n",
    "   new_text = new_text + \" \" + stemmer.stem(w) \n",
    " return np.char.strip(new_text)\n",
    "def convert_numbers(data): \n",
    " data = np.char.replace(data, \"0\", \" zero \") \n",
    " data = np.char.replace(data, \"1\", \" one \") \n",
    " data = np.char.replace(data, \"2\", \" two \") \n",
    " data = np.char.replace(data, \"3\", \" three \") \n",
    " data = np.char.replace(data, \"4\", \" four \") \n",
    " data = np.char.replace(data, \"5\", \" five \") \n",
    " data = np.char.replace(data, \"6\", \" six \") \n",
    " data = np.char.replace(data, \"7\", \" seven \") \n",
    " data = np.char.replace(data, \"8\", \" eight \") \n",
    " data = np.char.replace(data, \"9\", \" nine \") \n",
    " return data \n",
    "def remove_header(data): \n",
    " try: \n",
    "   ind = data.index('\\n\\n') \n",
    "   data = data[ind:] \n",
    " except: \n",
    "   print(\"No Header\") \n",
    " return data \n",
    "def remove_apostrophe(data): \n",
    " return np.char.replace(data, \"'\", \"\")\n",
    "def remove_single_characters(data): \n",
    " words = word_tokenize(str(data)) \n",
    " new_text = \"\" \n",
    " for w in words: \n",
    "   if len(w) > 1: \n",
    "      new_text = new_text + \" \" + w \n",
    " return np.char.strip(new_text) \n"
   ]
  },
  {
   "cell_type": "code",
   "execution_count": 34,
   "metadata": {},
   "outputs": [],
   "source": [
    "#Exercise 1 \n",
    "def preprocess(data, query):\n",
    "    if not query:\n",
    "        data = remove_header(data)\n",
    "        data = convert_lower_case(data)\n",
    "        data = convert_numbers(data)\n",
    "        data = remove_punctuation(data)\n",
    "        data = remove_stop_words(data)\n",
    "        data = remove_apostrophe(data)\n",
    "        data = stemming(data)\n",
    "    return data"
   ]
  },
  {
   "cell_type": "code",
   "execution_count": null,
   "metadata": {},
   "outputs": [],
   "source": [
    "doc = 0 \n",
    "postings = pd.DataFrame() \n",
    "for path in paths: \n",
    " file = open(path, 'r', encoding='cp1250') \n",
    " text = file.read().strip() \n",
    " file.close() \n",
    " preprocessed_text = preprocess(text, False) \n",
    " \n",
    " if doc%100 == 0: \n",
    "    print(doc) \n",
    " tokens = word_tokenize(str(preprocessed_text)) \n",
    " for token in tokens: \n",
    "    if token in postings: \n",
    "        p = postings[token][0] \n",
    "        p.add(doc) \n",
    "        postings[token][0] = p \n",
    "    else: \n",
    "        postings.insert(value=[{doc}], loc=0,column=token) \n",
    "doc += 1 \n",
    "\n",
    "postings.to_pickle(title + \"_unigram_postings\")"
   ]
  }
 ],
 "metadata": {
  "interpreter": {
   "hash": "6cd374a1488fce0bddf9e493bc25f253a3d01f00058c5828949f49e7175eb6ba"
  },
  "kernelspec": {
   "display_name": "Python 3.9.7 64-bit (windows store)",
   "name": "python3"
  },
  "language_info": {
   "codemirror_mode": {
    "name": "ipython",
    "version": 3
   },
   "file_extension": ".py",
   "mimetype": "text/x-python",
   "name": "python",
   "nbconvert_exporter": "python",
   "pygments_lexer": "ipython3",
   "version": "3.9.7"
  },
  "orig_nbformat": 4
 },
 "nbformat": 4,
 "nbformat_minor": 2
}
